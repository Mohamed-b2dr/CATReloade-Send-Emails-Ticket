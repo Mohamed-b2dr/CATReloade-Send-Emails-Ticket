{
 "cells": [
  {
   "cell_type": "code",
   "execution_count": null,
   "metadata": {},
   "outputs": [],
   "source": [
    "import pandas as pd\n",
    "sheet=\"Book1.xlsx\"\n",
    "email_list = pd.read_excel(sheet)\n",
    "\n",
    "# Get Email Addreses\n",
    "all_emails = email_list['Email']\n",
    "print(len(all_emails))"
   ]
  },
  {
   "cell_type": "code",
   "execution_count": 7,
   "metadata": {},
   "outputs": [],
   "source": [
    "#your email info\n",
    "Sender_Email =\"hr@catreloaded.net\" \n",
    "password = \"password\"\n",
    "your_name = \"CAT Reloaded | HR\""
   ]
  },
  {
   "cell_type": "code",
   "execution_count": 8,
   "metadata": {},
   "outputs": [],
   "source": [
    "Subject = \"Scope21 | Attendance Confirmation \"\n",
    "\n",
    "Message=\"\"\"Dear Applicant, we hope this mail finds you well. Thanks for registering to CAT Scope 21, we hope to meet your expectations.\n",
    "\n",
    "\n",
    "Below are the event details:\n",
    "\n",
    "Date: 27 & 28 April\n",
    "\n",
    "Registration time: 9:00 AM\n",
    "\n",
    "Session duration: 45 min\n",
    "\n",
    "Ending time: 3:00 PM\n",
    "\n",
    "Location: ITI Building at MU\n",
    "\n",
    "Kindly confirm which sessions you’re planning to attend with us via this form <shorturl.at/moJL0>\n",
    "\n",
    "Note that we have limited seats due to health precautions, so please only confirm the sessions you’ll attend.\n",
    "\n",
    "\n",
    "Have a good day!\n",
    "\n",
    "CAT Reloaded\n",
    "\"\"\""
   ]
  },
  {
   "cell_type": "code",
   "execution_count": 9,
   "metadata": {},
   "outputs": [],
   "source": [
    "import smtplib\n",
    "import imghdr\n",
    "from email.message import EmailMessage"
   ]
  },
  {
   "cell_type": "code",
   "execution_count": 10,
   "metadata": {},
   "outputs": [
    {
     "name": "stdout",
     "output_type": "stream",
     "text": [
      "Email to Mohamed.02.badr@gmail.com successfully sent!\n",
      "\n",
      "\n",
      "Email to mobadr@students.mans.edu.eg successfully sent!\n",
      "\n",
      "\n",
      "Email to mobadr@std.mans.ed.eg successfully sent!\n",
      "\n",
      "\n",
      "Email to mhamedbadrmohamedv@gmail.com successfully sent!\n",
      "\n",
      "\n",
      "Email to mobadr@std.mans.ed.eg successfully sent!\n",
      "\n",
      "\n",
      "Email to mobadr@std.mans.ed.eg successfully sent!\n",
      "\n",
      "\n",
      "Email to mobadr@std.mans.ed.eg successfully sent!\n",
      "\n",
      "\n",
      "Email to mobadr@std.mans.ed.eg successfully sent!\n",
      "\n",
      "\n"
     ]
    }
   ],
   "source": [
    "for idx in range(len(all_emails)):\n",
    "    newMessage = EmailMessage()\n",
    "    # Get each records name, email, subject and message\n",
    "    newMessage['To'] =all_emails[idx]\n",
    "    newMessage['Subject'] =Subject\n",
    "\n",
    "    newMessage.set_content(Message)\n",
    "    newMessage['From'] =your_name \n",
    "\n",
    "\n",
    "    try:    \n",
    "        with smtplib.SMTP_SSL('smtp.gmail.com', 465) as smtp:\n",
    "\n",
    "            smtp.login(Sender_Email, password)              \n",
    "            smtp.send_message(newMessage)\n",
    "            print('Email to {} successfully sent!\\n\\n'.format(all_emails[idx]))\n",
    "    except Exception as e:\n",
    "        print('Email to {} could not be sent :( because {}\\n\\n'.format(all_emails[idx], str(e)))"
   ]
  },
  {
   "cell_type": "code",
   "execution_count": null,
   "metadata": {},
   "outputs": [],
   "source": []
  },
  {
   "cell_type": "code",
   "execution_count": null,
   "metadata": {},
   "outputs": [],
   "source": []
  },
  {
   "cell_type": "code",
   "execution_count": null,
   "metadata": {},
   "outputs": [],
   "source": []
  },
  {
   "cell_type": "code",
   "execution_count": null,
   "metadata": {},
   "outputs": [],
   "source": []
  },
  {
   "cell_type": "code",
   "execution_count": null,
   "metadata": {},
   "outputs": [],
   "source": []
  },
  {
   "cell_type": "code",
   "execution_count": null,
   "metadata": {},
   "outputs": [],
   "source": []
  },
  {
   "cell_type": "code",
   "execution_count": null,
   "metadata": {},
   "outputs": [],
   "source": []
  },
  {
   "cell_type": "code",
   "execution_count": null,
   "metadata": {},
   "outputs": [],
   "source": []
  },
  {
   "cell_type": "code",
   "execution_count": null,
   "metadata": {},
   "outputs": [],
   "source": []
  },
  {
   "cell_type": "code",
   "execution_count": null,
   "metadata": {},
   "outputs": [],
   "source": []
  },
  {
   "cell_type": "code",
   "execution_count": null,
   "metadata": {},
   "outputs": [],
   "source": []
  }
 ],
 "metadata": {
  "kernelspec": {
   "display_name": "Python 3 (ipykernel)",
   "language": "python",
   "name": "python3"
  },
  "language_info": {
   "codemirror_mode": {
    "name": "ipython",
    "version": 3
   },
   "file_extension": ".py",
   "mimetype": "text/x-python",
   "name": "python",
   "nbconvert_exporter": "python",
   "pygments_lexer": "ipython3",
   "version": "3.9.7"
  }
 },
 "nbformat": 4,
 "nbformat_minor": 4
}