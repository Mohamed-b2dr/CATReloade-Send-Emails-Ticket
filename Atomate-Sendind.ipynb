{
 "cells": [
  {
   "cell_type": "code",
   "execution_count": 2,
   "metadata": {},
   "outputs": [
    {
     "name": "stdout",
     "output_type": "stream",
     "text": [
      "Enter Path Sheetmo.xlsx\n",
      "Enter Name Column EmailYour Full Name in English.\n",
      "17\n"
     ]
    }
   ],
   "source": [
    "import pandas as pd\n",
    "sheet= input('Enter Path Sheet')\n",
    "email_list = pd.read_excel(sheet)\n",
    "col_email = input('Enter Name Column Email')\n",
    "# Get Email Addreses\n",
    "all_emails = email_list[col_email]\n",
    "print(len(all_emails))"
   ]
  },
  {
   "cell_type": "code",
   "execution_count": 130,
   "metadata": {},
   "outputs": [],
   "source": [
    "#your email info\n",
    "Sender_Email = input('Enter Your Email Sender')\n",
    "password = input('Enter Your Password Email')\n",
    "your_name = input(\"Your Name\")"
   ]
  },
  {
   "cell_type": "code",
   "execution_count": 131,
   "metadata": {},
   "outputs": [],
   "source": [
    "Subject = input (\"Enter Your Subject\")\n",
    "Message= input(\"Enter Your Message\")"
   ]
  },
  {
   "cell_type": "code",
   "execution_count": 134,
   "metadata": {},
   "outputs": [],
   "source": [
    "import smtplib\n",
    "from email.message import EmailMessage"
   ]
  },
  {
   "cell_type": "code",
   "execution_count": 136,
   "metadata": {},
   "outputs": [
    {
     "name": "stdout",
     "output_type": "stream",
     "text": [
      "Email to a successfully sent!\n",
      "\n",
      "\n"
     ]
    }
   ],
   "source": [
    "for idx in range(len(all_emails)):\n",
    "    newMessage = EmailMessage()\n",
    "    # Get each records name, email, subject and message\n",
    "    newMessage['To'] =all_emails[idx]\n",
    "    newMessage['Subject'] =Subject\n",
    "\n",
    "    newMessage.set_content(Message)\n",
    "    newMessage['From'] =your_name \n",
    "\n",
    "\n",
    "    try:    \n",
    "        with smtplib.SMTP_SSL('smtp.gmail.com', 465) as smtp:\n",
    "\n",
    "            smtp.login(Sender_Email, password)              \n",
    "            smtp.send_message(newMessage)\n",
    "            print('Email to {} successfully sent!\\n\\n'.format(all_emails[idx]))\n",
    "    except Exception as e:\n",
    "        print('Email to {} could not be sent :( because {}\\n\\n'.format(all_emails[idx], str(e)))"
   ]
  },
  {
   "cell_type": "code",
   "execution_count": null,
   "metadata": {},
   "outputs": [],
   "source": []
  },
  {
   "cell_type": "code",
   "execution_count": null,
   "metadata": {},
   "outputs": [],
   "source": []
  },
  {
   "cell_type": "code",
   "execution_count": null,
   "metadata": {},
   "outputs": [],
   "source": []
  },
  {
   "cell_type": "code",
   "execution_count": null,
   "metadata": {},
   "outputs": [],
   "source": []
  },
  {
   "cell_type": "code",
   "execution_count": null,
   "metadata": {},
   "outputs": [],
   "source": []
  },
  {
   "cell_type": "code",
   "execution_count": null,
   "metadata": {},
   "outputs": [],
   "source": []
  },
  {
   "cell_type": "code",
   "execution_count": null,
   "metadata": {},
   "outputs": [],
   "source": []
  },
  {
   "cell_type": "code",
   "execution_count": null,
   "metadata": {},
   "outputs": [],
   "source": []
  },
  {
   "cell_type": "code",
   "execution_count": null,
   "metadata": {},
   "outputs": [],
   "source": []
  },
  {
   "cell_type": "code",
   "execution_count": null,
   "metadata": {},
   "outputs": [],
   "source": []
  },
  {
   "cell_type": "code",
   "execution_count": null,
   "metadata": {},
   "outputs": [],
   "source": []
  }
 ],
 "metadata": {
  "kernelspec": {
   "display_name": "Python 3 (ipykernel)",
   "language": "python",
   "name": "python3"
  },
  "language_info": {
   "codemirror_mode": {
    "name": "ipython",
    "version": 3
   },
   "file_extension": ".py",
   "mimetype": "text/x-python",
   "name": "python",
   "nbconvert_exporter": "python",
   "pygments_lexer": "ipython3",
   "version": "3.9.7"
  }
 },
 "nbformat": 4,
 "nbformat_minor": 4
}