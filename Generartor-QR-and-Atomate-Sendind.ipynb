{
 "cells": [
  {
   "cell_type": "code",
   "execution_count": 128,
   "metadata": {},
   "outputs": [],
   "source": [
    "import pandas as pd\n",
    "# Get all the Names, Email Addreses, Subjects and Messages\n",
    "email_list = pd.read_excel(\"Confirmation CAT Scope 21 (Responses).xlsx\")"
   ]
  },
  {
   "cell_type": "code",
   "execution_count": 129,
   "metadata": {},
   "outputs": [
    {
     "data": {
      "text/html": [
       "<div>\n",
       "<style scoped>\n",
       "    .dataframe tbody tr th:only-of-type {\n",
       "        vertical-align: middle;\n",
       "    }\n",
       "\n",
       "    .dataframe tbody tr th {\n",
       "        vertical-align: top;\n",
       "    }\n",
       "\n",
       "    .dataframe thead th {\n",
       "        text-align: right;\n",
       "    }\n",
       "</style>\n",
       "<table border=\"1\" class=\"dataframe\">\n",
       "  <thead>\n",
       "    <tr style=\"text-align: right;\">\n",
       "      <th></th>\n",
       "      <th>Timestamp</th>\n",
       "      <th>Your Full Name in English.</th>\n",
       "      <th>Your Email.</th>\n",
       "      <th>University.</th>\n",
       "      <th>First day 27-4-2021</th>\n",
       "      <th>Second day  28-4-2021</th>\n",
       "      <th>Your National ID?</th>\n",
       "    </tr>\n",
       "  </thead>\n",
       "  <tbody>\n",
       "    <tr>\n",
       "      <th>0</th>\n",
       "      <td>2021-04-25 14:18:02.027</td>\n",
       "      <td>Ahmed samir mohamed</td>\n",
       "      <td>Ahmed.samir23166@yahoo.com</td>\n",
       "      <td>MU</td>\n",
       "      <td>The Power of Artificial Intelligence in Cyber ...</td>\n",
       "      <td>Computer Vision (10:30 - 11:15), Next step wit...</td>\n",
       "      <td>NaN</td>\n",
       "    </tr>\n",
       "    <tr>\n",
       "      <th>1</th>\n",
       "      <td>2021-04-25 15:23:22.777</td>\n",
       "      <td>Ahmed Mohamed</td>\n",
       "      <td>ahmmh777@gmail.com</td>\n",
       "      <td>MU</td>\n",
       "      <td>The Power of Artificial Intelligence in Cyber ...</td>\n",
       "      <td>What is not UX ? (9:45 - 10:30), Computer Visi...</td>\n",
       "      <td>NaN</td>\n",
       "    </tr>\n",
       "    <tr>\n",
       "      <th>2</th>\n",
       "      <td>2021-04-25 15:36:25.723</td>\n",
       "      <td>Ahmed Mahmoud Bedair</td>\n",
       "      <td>Ahmedbedair33@gmail.com</td>\n",
       "      <td>MU</td>\n",
       "      <td>The Power of Artificial Intelligence in Cyber ...</td>\n",
       "      <td>Computer Vision (10:30 - 11:15), Front End - R...</td>\n",
       "      <td>NaN</td>\n",
       "    </tr>\n",
       "    <tr>\n",
       "      <th>3</th>\n",
       "      <td>2021-04-25 15:38:56.944</td>\n",
       "      <td>Ahmed El-Sayed</td>\n",
       "      <td>ahmed.elsayed2k20@gmail.com</td>\n",
       "      <td>MU</td>\n",
       "      <td>The Power of Artificial Intelligence in Cyber ...</td>\n",
       "      <td>Cracking The Interview Process (1:15 - 2:15), ...</td>\n",
       "      <td>NaN</td>\n",
       "    </tr>\n",
       "    <tr>\n",
       "      <th>4</th>\n",
       "      <td>2021-04-25 15:42:16.760</td>\n",
       "      <td>Eman Wageeh Elhelaly</td>\n",
       "      <td>emanelhelaly11@gmail.com</td>\n",
       "      <td>MU</td>\n",
       "      <td>The Human Error (2:15 - 3:00)</td>\n",
       "      <td>What is not UX ? (9:45 - 10:30), Computer Visi...</td>\n",
       "      <td>NaN</td>\n",
       "    </tr>\n",
       "  </tbody>\n",
       "</table>\n",
       "</div>"
      ],
      "text/plain": [
       "                Timestamp Your Full Name in English.  \\\n",
       "0 2021-04-25 14:18:02.027       Ahmed samir mohamed    \n",
       "1 2021-04-25 15:23:22.777              Ahmed Mohamed   \n",
       "2 2021-04-25 15:36:25.723      Ahmed Mahmoud Bedair    \n",
       "3 2021-04-25 15:38:56.944             Ahmed El-Sayed   \n",
       "4 2021-04-25 15:42:16.760       Eman Wageeh Elhelaly   \n",
       "\n",
       "                   Your Email. University.  \\\n",
       "0   Ahmed.samir23166@yahoo.com          MU   \n",
       "1           ahmmh777@gmail.com          MU   \n",
       "2     Ahmedbedair33@gmail.com           MU   \n",
       "3  ahmed.elsayed2k20@gmail.com          MU   \n",
       "4     emanelhelaly11@gmail.com          MU   \n",
       "\n",
       "                                 First day 27-4-2021  \\\n",
       "0  The Power of Artificial Intelligence in Cyber ...   \n",
       "1  The Power of Artificial Intelligence in Cyber ...   \n",
       "2  The Power of Artificial Intelligence in Cyber ...   \n",
       "3  The Power of Artificial Intelligence in Cyber ...   \n",
       "4                      The Human Error (2:15 - 3:00)   \n",
       "\n",
       "                               Second day  28-4-2021 Your National ID?  \n",
       "0  Computer Vision (10:30 - 11:15), Next step wit...               NaN  \n",
       "1  What is not UX ? (9:45 - 10:30), Computer Visi...               NaN  \n",
       "2  Computer Vision (10:30 - 11:15), Front End - R...               NaN  \n",
       "3  Cracking The Interview Process (1:15 - 2:15), ...               NaN  \n",
       "4  What is not UX ? (9:45 - 10:30), Computer Visi...               NaN  "
      ]
     },
     "execution_count": 129,
     "metadata": {},
     "output_type": "execute_result"
    }
   ],
   "source": [
    "email_list.head()"
   ]
  },
  {
   "cell_type": "code",
   "execution_count": 130,
   "metadata": {},
   "outputs": [
    {
     "name": "stdout",
     "output_type": "stream",
     "text": [
      "151\n"
     ]
    }
   ],
   "source": [
    "# Get all the Names, Email Addreses, Subjects and Messages\n",
    "all_names = email_list['Your Full Name in English.']\n",
    "all_emails = email_list['Your Email.']\n",
    "frist_day = email_list['First day 27-4-2021']\n",
    "second_day = email_list['Second day  28-4-2021']\n",
    "\n",
    "print(len(all_emails))"
   ]
  },
  {
   "cell_type": "code",
   "execution_count": 133,
   "metadata": {},
   "outputs": [
    {
     "data": {
      "text/plain": [
       "'The Power of Artificial Intelligence in Cyber Security (9:45 - 10:30)'"
      ]
     },
     "execution_count": 133,
     "metadata": {},
     "output_type": "execute_result"
    }
   ],
   "source": [
    "frist_day[0]\n"
   ]
  },
  {
   "cell_type": "code",
   "execution_count": 134,
   "metadata": {},
   "outputs": [
    {
     "data": {
      "text/plain": [
       "'Computer Vision (10:30 - 11:15), Next step with IOS (12:00 - 1:00), Payment Security (3:15 - 4:00)'"
      ]
     },
     "execution_count": 134,
     "metadata": {},
     "output_type": "execute_result"
    }
   ],
   "source": [
    "second_day[0]"
   ]
  },
  {
   "cell_type": "code",
   "execution_count": 118,
   "metadata": {},
   "outputs": [],
   "source": [
    "sessions_frist=[]\n",
    "sessions_second=[]"
   ]
  },
  {
   "cell_type": "code",
   "execution_count": 139,
   "metadata": {},
   "outputs": [],
   "source": [
    "for i in range(len(all_emails)):\n",
    "    day1=str(frist_day[i]).split(',')\n",
    "    lst1=[]\n",
    "    lst2=[]\n",
    "    for j in range (len(day1)):\n",
    "        session=day1[j].split(\"(\")\n",
    "        lst1.append(session[0])\n",
    "    sessions_frist.append(lst1) \n",
    "    \n",
    "    day2=str(second_day[i]).split(',')\n",
    "    \n",
    "    for r in range (len(day2)):\n",
    "        session2=day2[r].split(\"(\")\n",
    "        lst2.append(session2[0])\n",
    "    sessions_second.append(lst2)\n",
    "\n",
    "    \n",
    "        "
   ]
  },
  {
   "cell_type": "markdown",
   "metadata": {},
   "source": [
    "## Using Image"
   ]
  },
  {
   "cell_type": "code",
   "execution_count": 143,
   "metadata": {},
   "outputs": [],
   "source": [
    "import qrcode\n",
    "from PIL import Image\n",
    "\n",
    "images=['imag/3.jpg']\n",
    "for i in range (len(all_emails)):\n",
    "    images.append(\"imag/3-Copy\"+str(i+1)+'.jpg')\n",
    "    img_bg = Image.open(images[i])\n",
    "    qr = qrcode.QRCode(version = 1,box_size=4,border=4)\n",
    "    qr.add_data(\"Name : {0}\\n\\nSessions:\\n\\nFrist Day:\\n {1}\\n\\nSecond Day:\\n {2}\".format(all_names[i],sessions_frist[i],sessions_second[i]))               \n",
    "    qr.make(fit=True)\n",
    "    img_qr= qr.make_image(fill_color=\"#C2341C\", back_color=\"white\")\n",
    "    pos = ((img_bg.size[1] - img_qr.size[1])//2, (img_bg.size[1] - img_qr.size[1])//2)\n",
    "    img_bg.paste(img_qr, pos)\n",
    "    img_bg.save(images[i])"
   ]
  },
  {
   "cell_type": "code",
   "execution_count": 145,
   "metadata": {},
   "outputs": [],
   "source": [
    "Sender_Email =\"hr@catreloaded.net\"\n",
    "password = \"cat@\"\n",
    "your_name = \"CAT Reloaded|HR\""
   ]
  },
  {
   "cell_type": "code",
   "execution_count": 146,
   "metadata": {},
   "outputs": [],
   "source": [
    "import smtplib\n",
    "import imghdr\n",
    "from email.message import EmailMessage"
   ]
  },
  {
   "cell_type": "code",
   "execution_count": 10,
   "metadata": {},
   "outputs": [],
   "source": [
    "Subject = \"Scope21 | Ticket\"\n",
    "\n",
    "Message_body=\"\"\"Dear Applicant, we hope this mail finds you well. Thanks for confirming your attendance to CAT Scope21.\n",
    "\n",
    "Kindly find your ticket attached to this e-mail. \n",
    "Note that due to health precautions, keeping the social distancing and wearing your face mask is mandatory.\n",
    "\n",
    "Have a good time attending our sessions!\n",
    "CAT Reloaded\n",
    "\n",
    "\"\"\""
   ]
  },
  {
   "cell_type": "code",
   "execution_count": 11,
   "metadata": {},
   "outputs": [
    {
     "name": "stdout",
     "output_type": "stream",
     "text": [
      "Email to samohasmoha07@gmail.com successfully sent!\n",
      "\n",
      "\n",
      "Email to mohammed7711647@gmail.com successfully sent!\n",
      "\n",
      "\n",
      "Email to ibra17kh@gmail.com successfully sent!\n",
      "\n",
      "\n",
      "Email to alfhdbdalrhmnnsr@gmail.com successfully sent!\n",
      "\n",
      "\n",
      "Email to nouran1542001@gmail.com successfully sent!\n",
      "\n",
      "\n",
      "Email to htc.shereef@gmail.com successfully sent!\n",
      "\n",
      "\n",
      "Email to r.elfeky1210200@gmail.com successfully sent!\n",
      "\n",
      "\n",
      "Email to nadaabdelreheem74@gmail.com successfully sent!\n",
      "\n",
      "\n",
      "Email to manarmdht@gmail.com successfully sent!\n",
      "\n",
      "\n",
      "Email to daliahmed980@gmail.com successfully sent!\n",
      "\n",
      "\n",
      "Email to ahmed656@yahoo.com successfully sent!\n",
      "\n",
      "\n",
      "Email to asilmedo50@gmail.com successfully sent!\n",
      "\n",
      "\n",
      "Email to ahlamelghrib2020@gmail.com successfully sent!\n",
      "\n",
      "\n",
      "Email to ahlamelghrib2020@gmail.com successfully sent!\n",
      "\n",
      "\n",
      "Email to ahlamelghrib2020@gmail.com successfully sent!\n",
      "\n",
      "\n",
      "Email to aadhaml2001@gmail.com successfully sent!\n",
      "\n",
      "\n",
      "Email to nhussien339@gmail.com successfully sent!\n",
      "\n",
      "\n"
     ]
    }
   ],
   "source": [
    "for idx in range(len(all_emails )):\n",
    "    newMessage = EmailMessage()\n",
    "    # Get each records name, email, subject and message\n",
    "    newMessage['To'] = all_emails[idx]\n",
    "    newMessage['Subject'] =Subject\n",
    "    \n",
    "    newMessage.set_content(Message_body)\n",
    "    newMessage['From'] =your_name\n",
    "\n",
    "\n",
    "    with open(images[idx], 'rb') as f:\n",
    "                file_data = f.read()\n",
    "                file_name = f.name\n",
    "    newMessage.add_attachment(file_data, maintype='application', subtype='octet-stream',filename='ticket.jpg')\n",
    "    try:    \n",
    "        with smtplib.SMTP_SSL('smtp.gmail.com', 465) as smtp:\n",
    "\n",
    "            smtp.login(Sender_Email, password)              \n",
    "            smtp.send_message(newMessage)\n",
    "            print('Email to {} successfully sent!\\n\\n'.format(all_emails[idx]))\n",
    "    except Exception as e:\n",
    "        print('Email to {} could not be sent :( because {}\\n\\n'.format(all_emails[idx], str(e)))"
   ]
  },
  {
   "cell_type": "code",
   "execution_count": null,
   "metadata": {},
   "outputs": [],
   "source": []
  },
  {
   "cell_type": "code",
   "execution_count": null,
   "metadata": {},
   "outputs": [],
   "source": []
  },
  {
   "cell_type": "code",
   "execution_count": null,
   "metadata": {},
   "outputs": [],
   "source": []
  },
  {
   "cell_type": "code",
   "execution_count": 71,
   "metadata": {},
   "outputs": [],
   "source": [
    "import qrcode\n",
    "from PIL import Image\n",
    "\n",
    "for i in range (2):\n",
    "    qr = qrcode.QRCode(\n",
    "    version=2,\n",
    "    error_correction=qrcode.constants.ERROR_CORRECT_L,\n",
    "    box_size=10,\n",
    "    border=3,\n",
    "    )\n",
    "    qr.add_data(\"Name : {0}\\n\\nSessions:\\n\\nFrist Day:\\n {1}\\n\\nSecond Day:\\n {2}\".format(all_names[i],sessions_frist[i],sessions_second[i]))         \n",
    "    img.save('image/hello'+str(i)+'.png')\n",
    "    qr.make(fit=True)\n",
    "    img = qr.make_image(fill_color=\"red\", back_color=\"white\")\n",
    "    img.save(\"image/hello\"+str(i)+\".png\")"
   ]
  },
  {
   "cell_type": "code",
   "execution_count": null,
   "metadata": {},
   "outputs": [],
   "source": []
  },
  {
   "cell_type": "code",
   "execution_count": null,
   "metadata": {},
   "outputs": [],
   "source": []
  },
  {
   "cell_type": "code",
   "execution_count": null,
   "metadata": {},
   "outputs": [],
   "source": []
  }
 ],
 "metadata": {
  "kernelspec": {
   "display_name": "Python 3 (ipykernel)",
   "language": "python",
   "name": "python3"
  },
  "language_info": {
   "codemirror_mode": {
    "name": "ipython",
    "version": 3
   },
   "file_extension": ".py",
   "mimetype": "text/x-python",
   "name": "python",
   "nbconvert_exporter": "python",
   "pygments_lexer": "ipython3",
   "version": "3.9.7"
  }
 },
 "nbformat": 4,
 "nbformat_minor": 4
}
