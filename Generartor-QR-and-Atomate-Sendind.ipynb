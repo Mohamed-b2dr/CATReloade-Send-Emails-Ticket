{
 "cells": [
  {
   "cell_type": "code",
   "execution_count": null,
   "metadata": {},
   "outputs": [],
   "source": [
    "import pandas as pd\n",
    "# Get all the Names, Email Addreses, Subjects and Messages\n",
    "sheet= input('Enter Path Sheet')\n",
    "email_list = pd.read_excel(sheet)"
   ]
  },
  {
   "cell_type": "code",
   "execution_count": null,
   "metadata": {},
   "outputs": [],
   "source": [
    "email_list.head()"
   ]
  },
  {
   "cell_type": "code",
   "execution_count": null,
   "metadata": {},
   "outputs": [],
   "source": []
  },
  {
   "cell_type": "code",
   "execution_count": null,
   "metadata": {},
   "outputs": [],
   "source": [
    "# Get all the Names, Email Addreses, Subjects and Messages\n",
    "all_names = input (\"all_names\")\n",
    "all_names = email_list[all_names]\n",
    "col_email = input('Enter Name Column Email')\n",
    "all_emails = email_list[col_email]\n",
    "first_day  = input('Enter Name Column of first day')\n",
    "first_day = email_list[first_day]\n",
    "second_day = input('Enter Name Column of second_day')\n",
    "second_day = email_list[second_day]\n",
    "print(len(all_emails))"
   ]
  },
  {
   "cell_type": "code",
   "execution_count": null,
   "metadata": {},
   "outputs": [],
   "source": [
    "sessions_first=[]\n",
    "sessions_second=[]"
   ]
  },
  {
   "cell_type": "code",
   "execution_count": null,
   "metadata": {},
   "outputs": [],
   "source": [
    "for i in range(len(all_emails)):\n",
    "    day1=str(first_day[i]).split(',')\n",
    "    lst1=[]\n",
    "    lst2=[]\n",
    "    for j in range (len(day1)):\n",
    "        session=day1[j].split(\"(\")\n",
    "        lst1.append(session[0])\n",
    "    sessions_first.append(lst1)\n",
    "    \n",
    "    day2=str(second_day[i]).split(',')\n",
    "    \n",
    "    for r in range (len(day2)):\n",
    "        session2=day2[r].split(\"(\")\n",
    "        lst2.append(session2[0])\n",
    "    sessions_second.append(lst2)\n",
    "\n",
    "    \n",
    "        "
   ]
  },
  {
   "cell_type": "markdown",
   "metadata": {},
   "source": [
    "## Using Image"
   ]
  },
  {
   "cell_type": "code",
   "execution_count": null,
   "metadata": {},
   "outputs": [],
   "source": [
    "image = input(\"Enter First Image Path/ Sure The Number of image in Floder equal Number of emails/ with squence frist_imagename-Copy+(1:n) \")"
   ]
  },
  {
   "cell_type": "code",
   "execution_count": null,
   "metadata": {},
   "outputs": [],
   "source": [
    "import qrcode\n",
    "from PIL import Image\n",
    "root = image.split(\"/\")[0]\n",
    "images=[image]\n",
    "for i in range (len(all_emails)):\n",
    "    images.append(root+\"/1-Copy\"+str(i+1)+'.jpg')\n",
    "    img_bg = Image.open(images[i])\n",
    "    qr = qrcode.QRCode(version = 1,box_size=4,border=4)\n",
    "    qr.add_data(\"Name : {0}\\n\\nSessions:\\n\\nFirst Day:\\n {1}\\n\\nSecond Day:\\n {2}\".format(all_names[i],sessions_first[i],sessions_second[i]))\n",
    "    qr.make(fit=True)\n",
    "    img_qr= qr.make_image(fill_color=\"#C2341C\", back_color=\"white\")\n",
    "    pos = ((img_bg.size[1] - img_qr.size[1])//2, (img_bg.size[1] - img_qr.size[1])//2)\n",
    "    img_bg.paste(img_qr, pos)\n",
    "    img_bg.save(images[i])"
   ]
  },
  {
   "cell_type": "code",
   "execution_count": null,
   "metadata": {},
   "outputs": [],
   "source": [
    "Sender_Email = input('Enter Your Email Sender')\n",
    "password = input('Enter Your Password Email')\n",
    "your_name = input(\"Your Name\")"
   ]
  },
  {
   "cell_type": "code",
   "execution_count": null,
   "metadata": {},
   "outputs": [],
   "source": [
    "import smtplib\n",
    "from email.message import EmailMessage"
   ]
  },
  {
   "cell_type": "code",
   "execution_count": null,
   "metadata": {},
   "outputs": [],
   "source": [
    "Subject = input (\"Enter Your Subject\")\n",
    "Message= input(\"Enter Your Message\")"
   ]
  },
  {
   "cell_type": "code",
   "execution_count": null,
   "metadata": {},
   "outputs": [],
   "source": [
    "for idx in range(len(all_emails )):\n",
    "    newMessage = EmailMessage()\n",
    "    # Get each records name, email, subject and message\n",
    "    newMessage['To'] = all_emails[idx]\n",
    "    newMessage['Subject'] =Subject\n",
    "    \n",
    "    newMessage.set_content(Message)\n",
    "    newMessage['From'] =your_name\n",
    "\n",
    "\n",
    "    with open(images[idx], 'rb') as f:\n",
    "                file_data = f.read()\n",
    "                file_name = f.name\n",
    "    newMessage.add_attachment(file_data, maintype='application', subtype='octet-stream',filename='ticket.png')\n",
    "    try:    \n",
    "        with smtplib.SMTP_SSL('smtp.gmail.com', 465) as smtp:\n",
    "\n",
    "            smtp.login(Sender_Email, password)              \n",
    "            smtp.send_message(newMessage)\n",
    "            print('Email to {} successfully sent!\\n\\n'.format(all_emails[idx]))\n",
    "    except Exception as e:\n",
    "        print('Email to {} could not be sent :( because {}\\n\\n'.format(all_emails[idx], str(e)))"
   ]
  },
  {
   "cell_type": "code",
   "execution_count": null,
   "metadata": {},
   "outputs": [],
   "source": []
  },
  {
   "cell_type": "code",
   "execution_count": null,
   "metadata": {},
   "outputs": [],
   "source": []
  },
  {
   "cell_type": "code",
   "execution_count": null,
   "metadata": {},
   "outputs": [],
   "source": []
  },
  {
   "cell_type": "code",
   "execution_count": null,
   "metadata": {},
   "outputs": [],
   "source": []
  }
 ],
 "metadata": {
  "kernelspec": {
   "display_name": "Python 3 (ipykernel)",
   "language": "python",
   "name": "python3"
  },
  "language_info": {
   "codemirror_mode": {
    "name": "ipython",
    "version": 3
   },
   "file_extension": ".py",
   "mimetype": "text/x-python",
   "name": "python",
   "nbconvert_exporter": "python",
   "pygments_lexer": "ipython3",
   "version": "3.9.7"
  }
 },
 "nbformat": 4,
 "nbformat_minor": 4
}